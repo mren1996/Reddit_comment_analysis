{
 "cells": [
  {
   "cell_type": "code",
   "execution_count": 2,
   "metadata": {},
   "outputs": [],
   "source": [
    "import praw\n",
    "import mq\n",
    "import redis\n",
    "import tqdm\n",
    "import preprocessing\n",
    "import spacy\n",
    "from dotenv import load_dotenv\n",
    "from os import getenv\n",
    "from extract import extract_comment"
   ]
  },
  {
   "cell_type": "code",
   "execution_count": 4,
   "metadata": {},
   "outputs": [
    {
     "data": {
      "text/plain": [
       "True"
      ]
     },
     "execution_count": 4,
     "metadata": {},
     "output_type": "execute_result"
    }
   ],
   "source": [
    "# check if environment is loaded corrcetly and load it\n",
    "load_dotenv()"
   ]
  },
  {
   "cell_type": "code",
   "execution_count": 5,
   "metadata": {},
   "outputs": [],
   "source": [
    "# get reddit consumer user reddit script\n",
    "consumer = praw.Reddit(\n",
    "    client_id=getenv('REDDIT_ID'),\n",
    "    client_secret=getenv('REDDIT_SECRET'),\n",
    "    user_agent='python_consumer'\n",
    ")\n",
    "# subreddit is politics\n",
    "subreddit = consumer.subreddit('politics')"
   ]
  },
  {
   "cell_type": "code",
   "execution_count": null,
   "metadata": {},
   "outputs": [],
   "source": [
    "r = redis.Redis()\n",
    "for comment in tqdm.tqdm(subreddit.stream.comments()):\n",
    "    msg = extract_comment(comment)\n",
    "    msg = mq.serialize_message_data(msg)\n",
    "    r.publish('comments',msg)"
   ]
  },
  {
   "cell_type": "code",
   "execution_count": null,
   "metadata": {},
   "outputs": [],
   "source": [
    "# getting the comments from the consumer\n",
    "sub = r.pubsub(ignore_subscribe_messages=True)\n",
    "sub.subscribe(['comments'])"
   ]
  },
  {
   "cell_type": "code",
   "execution_count": 8,
   "metadata": {},
   "outputs": [],
   "source": [
    "# data cleaning and preprocessing\n",
    "def process_message(msg):\n",
    "    msg = mq.read_message_data(msg)['text']\n",
    "    # remove urls\n",
    "    text = preprocessing.replace_urls(msg)\n",
    "    # split sentences\n",
    "    sentences = preprocessing.message_to_sentences(text)\n",
    "    return sentences"
   ]
  },
  {
   "cell_type": "code",
   "execution_count": null,
   "metadata": {},
   "outputs": [],
   "source": [
    "# preprocessing and cleaning the text as we are getting them from the consumer\n",
    "for post in tqdm(sub.listen()):\n",
    "    sentences = process_message(post)\n",
    "    print(sentences)\n",
    "    for s in sentences:\n",
    "        r.publish('processed',mq.serialize_message_data(s))"
   ]
  },
  {
   "cell_type": "code",
   "execution_count": null,
   "metadata": {},
   "outputs": [],
   "source": [
    "# load spacy model and using it to do entity recognition\n",
    "nlp = spacy.load(\"en_core_web_sm\")\n",
    "nlp.pipeline\n",
    "sub = r.pubsub(ignore_subscribe_messages=True)\n",
    "sub.subscribe(['processed'])\n",
    "# adding this part fo the nlp model to our pipeline and conducting entity recognition\n",
    "for message in tqdm(sub.listen()):\n",
    "    sentence = mq.read_message_data(message)\n",
    "    doc = nlp(sentence)\n",
    "    entities = doc.ents\n",
    "    if len(entities) > 0:\n",
    "        output = dict(sentence=sentence,entities=entities)\n",
    "        r.publish('entity',mq.serialize_message_data(output))"
   ]
  },
  {
   "cell_type": "code",
   "execution_count": null,
   "metadata": {},
   "outputs": [],
   "source": [
    "from pathlib import Path\n",
    "from fastai.text import load_data, text_classifier_learner, AWD_LSTM\n",
    "# using fastai's text sentiment data, we can \n",
    "bs=48\n",
    "path=Path('./model/sentiment')\n",
    "data_clas = load_data(path, 'data_clas.pkl', bs=bs)\n",
    "learn = text_classifier_learner(data_clas, AWD_LSTM, drop_mult=0.5)"
   ]
  },
  {
   "cell_type": "code",
   "execution_count": null,
   "metadata": {},
   "outputs": [],
   "source": [
    "def predict_sentiment(sentence:str) -> Tuple[str, float]:\n",
    "    categorical, class_id, scores = learn.predict(sentence)\n",
    "    score = round(scores[class_id].item(), 4)\n",
    "    return \"negative\" if class_id == 0 else \"positive\", score"
   ]
  },
  {
   "cell_type": "code",
   "execution_count": null,
   "metadata": {},
   "outputs": [],
   "source": [
    "sub = r.pubsub(ignore_subscribe_messages=True)\n",
    "sub.subscribe(['entity'])\n",
    "for message in tqdm(sub.listen()):\n",
    "    data = mq.read_message_data(message)\n",
    "    sentiment, score = predict_sentiment(data['sentence'])\n",
    "    for ent in data['entities']:\n",
    "        output = dict(entity=ent,sentiment=sentiment,score=score)\n",
    "        print(output)\n",
    "        r.publish('final',mq.serialize_message_data(output))"
   ]
  }
 ],
 "metadata": {
  "kernelspec": {
   "display_name": "Python 3",
   "language": "python",
   "name": "python3"
  },
  "language_info": {
   "codemirror_mode": {
    "name": "ipython",
    "version": 3
   },
   "file_extension": ".py",
   "mimetype": "text/x-python",
   "name": "python",
   "nbconvert_exporter": "python",
   "pygments_lexer": "ipython3",
   "version": "3.9.1"
  }
 },
 "nbformat": 4,
 "nbformat_minor": 4
}
